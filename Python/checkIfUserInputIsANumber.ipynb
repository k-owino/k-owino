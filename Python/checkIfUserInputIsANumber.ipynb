{
 "cells": [
  {
   "cell_type": "code",
   "execution_count": 1,
   "metadata": {},
   "outputs": [
    {
     "name": "stdout",
     "output_type": "stream",
     "text": [
      "780  is a number\n",
      "None\n"
     ]
    }
   ],
   "source": [
    "#Program to check whether a character entered by User is a Number\n",
    "def checkNum(x):\n",
    "    if x.isdigit():\n",
    "        print(x,\" is a number\")\n",
    "    else:\n",
    "        print(x,\"is not a number\")\n",
    "\n",
    "\n",
    "n=input(\"Enter A Number: \")\n",
    "print(checkNum(n))"
   ]
  }
 ],
 "metadata": {
  "kernelspec": {
   "display_name": "Python 3",
   "language": "python",
   "name": "python3"
  },
  "language_info": {
   "codemirror_mode": {
    "name": "ipython",
    "version": 3
   },
   "file_extension": ".py",
   "mimetype": "text/x-python",
   "name": "python",
   "nbconvert_exporter": "python",
   "pygments_lexer": "ipython3",
   "version": "3.12.1"
  }
 },
 "nbformat": 4,
 "nbformat_minor": 2
}
