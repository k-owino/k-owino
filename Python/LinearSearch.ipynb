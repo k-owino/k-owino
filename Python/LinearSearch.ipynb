{
 "cells": [
  {
   "cell_type": "code",
   "execution_count": 3,
   "metadata": {},
   "outputs": [
    {
     "name": "stdout",
     "output_type": "stream",
     "text": [
      "Element 89 is present in the array in the index 4\n"
     ]
    }
   ],
   "source": [
    "#Linear search:check if element exists in array and return its index position \n",
    "#arr is the element\n",
    "#N is the size of array\n",
    "#x is the target element\n",
    "def search(arr,N,x):\n",
    "    for i in range(0,N): #iterates in the array\n",
    "        if arr[i]==x:    #checks if element in the array equals target element\n",
    "            return i     #returns if target element exists in array\n",
    "    return -1            #returns if target element does not exist in array\n",
    "\n",
    "#Driver code\n",
    "if __name__== \"__main__\":\n",
    "    arr=[1,4,11,21,89]\n",
    "    x=89\n",
    "    N=len(arr)\n",
    "    \n",
    "    result=search(arr,N,x)      #calls the search() function\n",
    "    if result== -1:             #check if target element does not exist in array\n",
    "        print(f\"Element {x} is not present in the array\")\n",
    "    else:\n",
    "        print(f\"Element {x} is present in the array in the index {result}\")"
   ]
  }
 ],
 "metadata": {
  "kernelspec": {
   "display_name": "Python 3",
   "language": "python",
   "name": "python3"
  },
  "language_info": {
   "codemirror_mode": {
    "name": "ipython",
    "version": 3
   },
   "file_extension": ".py",
   "mimetype": "text/x-python",
   "name": "python",
   "nbconvert_exporter": "python",
   "pygments_lexer": "ipython3",
   "version": "3.12.1"
  }
 },
 "nbformat": 4,
 "nbformat_minor": 2
}
